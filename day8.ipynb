{
 "cells": [
  {
   "cell_type": "code",
   "execution_count": 5,
   "metadata": {},
   "outputs": [
    {
     "name": "stdout",
     "output_type": "stream",
     "text": [
      "Collecting numpy\n",
      "  Downloading numpy-1.24.2-cp39-cp39-win_amd64.whl (14.9 MB)\n",
      "     ---------------------------------------- 0.0/14.9 MB ? eta -:--:--\n",
      "     --------------------------------------- 0.0/14.9 MB 991.0 kB/s eta 0:00:15\n",
      "     ---------------------------------------- 0.1/14.9 MB 1.3 MB/s eta 0:00:12\n",
      "     ---------------------------------------- 0.2/14.9 MB 1.1 MB/s eta 0:00:13\n",
      "      --------------------------------------- 0.2/14.9 MB 1.2 MB/s eta 0:00:13\n",
      "      --------------------------------------- 0.3/14.9 MB 1.4 MB/s eta 0:00:11\n",
      "     - -------------------------------------- 0.4/14.9 MB 1.5 MB/s eta 0:00:10\n",
      "     - -------------------------------------- 0.5/14.9 MB 1.4 MB/s eta 0:00:11\n",
      "     - -------------------------------------- 0.5/14.9 MB 1.4 MB/s eta 0:00:11\n",
      "     - -------------------------------------- 0.6/14.9 MB 1.4 MB/s eta 0:00:11\n",
      "     - -------------------------------------- 0.7/14.9 MB 1.5 MB/s eta 0:00:10\n",
      "     -- ------------------------------------- 0.8/14.9 MB 1.6 MB/s eta 0:00:09\n",
      "     -- ------------------------------------- 0.9/14.9 MB 1.6 MB/s eta 0:00:09\n",
      "     -- ------------------------------------- 1.0/14.9 MB 1.6 MB/s eta 0:00:09\n",
      "     -- ------------------------------------- 1.1/14.9 MB 1.7 MB/s eta 0:00:09\n",
      "     --- ------------------------------------ 1.2/14.9 MB 1.7 MB/s eta 0:00:09\n",
      "     --- ------------------------------------ 1.2/14.9 MB 1.6 MB/s eta 0:00:09\n",
      "     --- ------------------------------------ 1.2/14.9 MB 1.6 MB/s eta 0:00:09\n",
      "     --- ------------------------------------ 1.3/14.9 MB 1.5 MB/s eta 0:00:09\n",
      "     --- ------------------------------------ 1.3/14.9 MB 1.5 MB/s eta 0:00:09\n",
      "     --- ------------------------------------ 1.4/14.9 MB 1.5 MB/s eta 0:00:09\n",
      "     --- ------------------------------------ 1.4/14.9 MB 1.4 MB/s eta 0:00:10\n",
      "     --- ------------------------------------ 1.5/14.9 MB 1.4 MB/s eta 0:00:10\n",
      "     --- ------------------------------------ 1.5/14.9 MB 1.4 MB/s eta 0:00:10\n",
      "     ---- ----------------------------------- 1.5/14.9 MB 1.4 MB/s eta 0:00:10\n",
      "     ---- ----------------------------------- 1.6/14.9 MB 1.4 MB/s eta 0:00:10\n",
      "     ---- ----------------------------------- 1.7/14.9 MB 1.4 MB/s eta 0:00:10\n",
      "     ---- ----------------------------------- 1.7/14.9 MB 1.4 MB/s eta 0:00:10\n",
      "     ---- ----------------------------------- 1.8/14.9 MB 1.4 MB/s eta 0:00:10\n",
      "     ----- ---------------------------------- 1.9/14.9 MB 1.4 MB/s eta 0:00:10\n",
      "     ----- ---------------------------------- 2.0/14.9 MB 1.4 MB/s eta 0:00:09\n",
      "     ----- ---------------------------------- 2.2/14.9 MB 1.5 MB/s eta 0:00:09\n",
      "     ----- ---------------------------------- 2.2/14.9 MB 1.5 MB/s eta 0:00:09\n",
      "     ------ --------------------------------- 2.3/14.9 MB 1.5 MB/s eta 0:00:09\n",
      "     ------ --------------------------------- 2.3/14.9 MB 1.5 MB/s eta 0:00:09\n",
      "     ------ --------------------------------- 2.4/14.9 MB 1.5 MB/s eta 0:00:09\n",
      "     ------ --------------------------------- 2.4/14.9 MB 1.4 MB/s eta 0:00:09\n",
      "     ------ --------------------------------- 2.4/14.9 MB 1.4 MB/s eta 0:00:09\n",
      "     ------ --------------------------------- 2.5/14.9 MB 1.4 MB/s eta 0:00:09\n",
      "     ------- -------------------------------- 2.7/14.9 MB 1.5 MB/s eta 0:00:09\n",
      "     ------- -------------------------------- 2.8/14.9 MB 1.5 MB/s eta 0:00:08\n",
      "     ------- -------------------------------- 2.9/14.9 MB 1.5 MB/s eta 0:00:08\n",
      "     ------- -------------------------------- 3.0/14.9 MB 1.5 MB/s eta 0:00:08\n",
      "     -------- ------------------------------- 3.1/14.9 MB 1.5 MB/s eta 0:00:08\n",
      "     -------- ------------------------------- 3.2/14.9 MB 1.6 MB/s eta 0:00:08\n",
      "     -------- ------------------------------- 3.3/14.9 MB 1.6 MB/s eta 0:00:08\n",
      "     --------- ------------------------------ 3.4/14.9 MB 1.6 MB/s eta 0:00:08\n",
      "     --------- ------------------------------ 3.5/14.9 MB 1.6 MB/s eta 0:00:08\n",
      "     --------- ------------------------------ 3.7/14.9 MB 1.7 MB/s eta 0:00:07\n",
      "     ---------- ----------------------------- 3.8/14.9 MB 1.7 MB/s eta 0:00:07\n",
      "     ---------- ----------------------------- 3.8/14.9 MB 1.7 MB/s eta 0:00:07\n",
      "     ---------- ----------------------------- 3.9/14.9 MB 1.6 MB/s eta 0:00:07\n",
      "     ---------- ----------------------------- 4.0/14.9 MB 1.6 MB/s eta 0:00:07\n",
      "     ---------- ----------------------------- 4.0/14.9 MB 1.6 MB/s eta 0:00:07\n",
      "     ----------- ---------------------------- 4.1/14.9 MB 1.6 MB/s eta 0:00:07\n",
      "     ----------- ---------------------------- 4.1/14.9 MB 1.6 MB/s eta 0:00:07\n",
      "     ----------- ---------------------------- 4.2/14.9 MB 1.6 MB/s eta 0:00:07\n",
      "     ----------- ---------------------------- 4.3/14.9 MB 1.6 MB/s eta 0:00:07\n",
      "     ----------- ---------------------------- 4.3/14.9 MB 1.6 MB/s eta 0:00:07\n",
      "     ----------- ---------------------------- 4.4/14.9 MB 1.6 MB/s eta 0:00:07\n",
      "     ------------ --------------------------- 4.5/14.9 MB 1.6 MB/s eta 0:00:07\n",
      "     ------------ --------------------------- 4.6/14.9 MB 1.6 MB/s eta 0:00:07\n",
      "     ------------ --------------------------- 4.7/14.9 MB 1.6 MB/s eta 0:00:07\n",
      "     ------------ --------------------------- 4.8/14.9 MB 1.6 MB/s eta 0:00:07\n",
      "     ------------- -------------------------- 4.9/14.9 MB 1.6 MB/s eta 0:00:07\n",
      "     ------------- -------------------------- 5.0/14.9 MB 1.7 MB/s eta 0:00:06\n",
      "     ------------- -------------------------- 5.0/14.9 MB 1.7 MB/s eta 0:00:06\n",
      "     ------------- -------------------------- 5.2/14.9 MB 1.6 MB/s eta 0:00:06\n",
      "     -------------- ------------------------- 5.4/14.9 MB 1.7 MB/s eta 0:00:06\n",
      "     -------------- ------------------------- 5.5/14.9 MB 1.7 MB/s eta 0:00:06\n",
      "     -------------- ------------------------- 5.6/14.9 MB 1.7 MB/s eta 0:00:06\n",
      "     --------------- ------------------------ 5.7/14.9 MB 1.7 MB/s eta 0:00:06\n",
      "     --------------- ------------------------ 5.7/14.9 MB 1.7 MB/s eta 0:00:06\n",
      "     --------------- ------------------------ 5.8/14.9 MB 1.7 MB/s eta 0:00:06\n",
      "     --------------- ------------------------ 5.9/14.9 MB 1.7 MB/s eta 0:00:06\n",
      "     ---------------- ----------------------- 6.0/14.9 MB 1.7 MB/s eta 0:00:06\n",
      "     ---------------- ----------------------- 6.0/14.9 MB 1.7 MB/s eta 0:00:06\n",
      "     ---------------- ----------------------- 6.1/14.9 MB 1.7 MB/s eta 0:00:06\n",
      "     ---------------- ----------------------- 6.2/14.9 MB 1.7 MB/s eta 0:00:06\n",
      "     ----------------- ---------------------- 6.3/14.9 MB 1.7 MB/s eta 0:00:05\n",
      "     ----------------- ---------------------- 6.4/14.9 MB 1.7 MB/s eta 0:00:05\n",
      "     ----------------- ---------------------- 6.5/14.9 MB 1.7 MB/s eta 0:00:05\n",
      "     ----------------- ---------------------- 6.5/14.9 MB 1.7 MB/s eta 0:00:05\n",
      "     ----------------- ---------------------- 6.6/14.9 MB 1.7 MB/s eta 0:00:05\n",
      "     ------------------ --------------------- 6.7/14.9 MB 1.7 MB/s eta 0:00:05\n",
      "     ------------------ --------------------- 6.7/14.9 MB 1.7 MB/s eta 0:00:05\n",
      "     ------------------ --------------------- 6.8/14.9 MB 1.7 MB/s eta 0:00:05\n",
      "     ------------------ --------------------- 6.8/14.9 MB 1.7 MB/s eta 0:00:05\n",
      "     ------------------ --------------------- 6.8/14.9 MB 1.7 MB/s eta 0:00:05\n",
      "     ------------------ --------------------- 6.8/14.9 MB 1.7 MB/s eta 0:00:05\n",
      "     ------------------ --------------------- 6.8/14.9 MB 1.7 MB/s eta 0:00:05\n",
      "     ------------------- -------------------- 7.3/14.9 MB 1.7 MB/s eta 0:00:05\n",
      "     -------------------- ------------------- 7.5/14.9 MB 1.7 MB/s eta 0:00:05\n",
      "     -------------------- ------------------- 7.5/14.9 MB 1.7 MB/s eta 0:00:05\n",
      "     -------------------- ------------------- 7.7/14.9 MB 1.8 MB/s eta 0:00:05\n",
      "     --------------------- ------------------ 7.9/14.9 MB 1.8 MB/s eta 0:00:04\n",
      "     --------------------- ------------------ 8.0/14.9 MB 1.8 MB/s eta 0:00:04\n",
      "     --------------------- ------------------ 8.2/14.9 MB 1.8 MB/s eta 0:00:04\n",
      "     ---------------------- ----------------- 8.3/14.9 MB 1.8 MB/s eta 0:00:04\n",
      "     ---------------------- ----------------- 8.4/14.9 MB 1.8 MB/s eta 0:00:04\n",
      "     ---------------------- ----------------- 8.5/14.9 MB 1.8 MB/s eta 0:00:04\n",
      "     ----------------------- ---------------- 8.7/14.9 MB 1.8 MB/s eta 0:00:04\n",
      "     ----------------------- ---------------- 8.8/14.9 MB 1.9 MB/s eta 0:00:04\n",
      "     ------------------------ --------------- 9.0/14.9 MB 1.9 MB/s eta 0:00:04\n",
      "     ------------------------ --------------- 9.1/14.9 MB 1.9 MB/s eta 0:00:04\n",
      "     ------------------------ --------------- 9.2/14.9 MB 1.9 MB/s eta 0:00:03\n",
      "     ------------------------- -------------- 9.4/14.9 MB 1.9 MB/s eta 0:00:03\n",
      "     ------------------------- -------------- 9.6/14.9 MB 1.9 MB/s eta 0:00:03\n",
      "     -------------------------- ------------- 9.7/14.9 MB 1.9 MB/s eta 0:00:03\n",
      "     -------------------------- ------------- 9.8/14.9 MB 1.9 MB/s eta 0:00:03\n",
      "     -------------------------- ------------- 9.9/14.9 MB 1.9 MB/s eta 0:00:03\n",
      "     -------------------------- ------------- 9.9/14.9 MB 1.9 MB/s eta 0:00:03\n",
      "     -------------------------- ------------- 10.0/14.9 MB 1.9 MB/s eta 0:00:03\n",
      "     --------------------------- ------------ 10.2/14.9 MB 1.9 MB/s eta 0:00:03\n",
      "     --------------------------- ------------ 10.2/14.9 MB 1.9 MB/s eta 0:00:03\n",
      "     ---------------------------- ----------- 10.5/14.9 MB 2.0 MB/s eta 0:00:03\n",
      "     ---------------------------- ----------- 10.7/14.9 MB 2.0 MB/s eta 0:00:03\n",
      "     ----------------------------- ---------- 10.9/14.9 MB 2.0 MB/s eta 0:00:02\n",
      "     ----------------------------- ---------- 11.0/14.9 MB 2.0 MB/s eta 0:00:02\n",
      "     ------------------------------ --------- 11.2/14.9 MB 2.1 MB/s eta 0:00:02\n",
      "     ------------------------------ --------- 11.4/14.9 MB 2.1 MB/s eta 0:00:02\n",
      "     ------------------------------ --------- 11.4/14.9 MB 2.1 MB/s eta 0:00:02\n",
      "     ------------------------------ --------- 11.5/14.9 MB 2.1 MB/s eta 0:00:02\n",
      "     ------------------------------- -------- 11.6/14.9 MB 2.1 MB/s eta 0:00:02\n",
      "     ------------------------------- -------- 11.8/14.9 MB 2.2 MB/s eta 0:00:02\n",
      "     ------------------------------- -------- 11.9/14.9 MB 2.2 MB/s eta 0:00:02\n",
      "     -------------------------------- ------- 12.0/14.9 MB 2.2 MB/s eta 0:00:02\n",
      "     -------------------------------- ------- 12.0/14.9 MB 2.2 MB/s eta 0:00:02\n",
      "     -------------------------------- ------- 12.2/14.9 MB 2.2 MB/s eta 0:00:02\n",
      "     -------------------------------- ------- 12.3/14.9 MB 2.2 MB/s eta 0:00:02\n",
      "     --------------------------------- ------ 12.5/14.9 MB 2.2 MB/s eta 0:00:02\n",
      "     --------------------------------- ------ 12.6/14.9 MB 2.3 MB/s eta 0:00:01\n",
      "     ---------------------------------- ----- 12.7/14.9 MB 2.3 MB/s eta 0:00:01\n",
      "     ---------------------------------- ----- 12.7/14.9 MB 2.3 MB/s eta 0:00:01\n",
      "     ---------------------------------- ----- 12.9/14.9 MB 2.3 MB/s eta 0:00:01\n",
      "     ----------------------------------- ---- 13.0/14.9 MB 2.3 MB/s eta 0:00:01\n",
      "     ----------------------------------- ---- 13.3/14.9 MB 2.4 MB/s eta 0:00:01\n",
      "     ------------------------------------ --- 13.4/14.9 MB 2.3 MB/s eta 0:00:01\n",
      "     ------------------------------------ --- 13.6/14.9 MB 2.4 MB/s eta 0:00:01\n",
      "     ------------------------------------ --- 13.7/14.9 MB 2.4 MB/s eta 0:00:01\n",
      "     ------------------------------------- -- 13.9/14.9 MB 2.4 MB/s eta 0:00:01\n",
      "     ------------------------------------- -- 13.9/14.9 MB 2.4 MB/s eta 0:00:01\n",
      "     -------------------------------------- - 14.2/14.9 MB 2.4 MB/s eta 0:00:01\n",
      "     -------------------------------------- - 14.3/14.9 MB 2.4 MB/s eta 0:00:01\n",
      "     -------------------------------------- - 14.4/14.9 MB 2.5 MB/s eta 0:00:01\n",
      "     ---------------------------------------  14.5/14.9 MB 2.5 MB/s eta 0:00:01\n",
      "     ---------------------------------------  14.7/14.9 MB 2.5 MB/s eta 0:00:01\n",
      "     ---------------------------------------  14.8/14.9 MB 2.6 MB/s eta 0:00:01\n",
      "     ---------------------------------------  14.9/14.9 MB 2.6 MB/s eta 0:00:01\n",
      "     ---------------------------------------- 14.9/14.9 MB 2.5 MB/s eta 0:00:00\n",
      "Installing collected packages: numpy\n",
      "Successfully installed numpy-1.24.2\n"
     ]
    },
    {
     "name": "stderr",
     "output_type": "stream",
     "text": [
      "\n",
      "[notice] A new release of pip is available: 23.0.1 -> 23.1\n",
      "[notice] To update, run: python.exe -m pip install --upgrade pip\n"
     ]
    }
   ],
   "source": [
    "! python -m pip install numpy\n"
   ]
  },
  {
   "cell_type": "code",
   "execution_count": 6,
   "metadata": {},
   "outputs": [],
   "source": [
    "import numpy as np"
   ]
  },
  {
   "cell_type": "code",
   "execution_count": 7,
   "metadata": {},
   "outputs": [],
   "source": [
    "a = np.array([8,6,50])"
   ]
  },
  {
   "cell_type": "code",
   "execution_count": 8,
   "metadata": {},
   "outputs": [
    {
     "name": "stdout",
     "output_type": "stream",
     "text": [
      "(3,)\n"
     ]
    }
   ],
   "source": [
    "print(a.shape)"
   ]
  },
  {
   "cell_type": "code",
   "execution_count": 11,
   "metadata": {},
   "outputs": [
    {
     "data": {
      "text/plain": [
       "array([[ 3,  8,  4],\n",
       "       [ 9,  3,  5],\n",
       "       [11, 15, 17],\n",
       "       [19, 31,  8]])"
      ]
     },
     "execution_count": 11,
     "metadata": {},
     "output_type": "execute_result"
    }
   ],
   "source": [
    "b=np.array([[3,8,4],[9,3,5],[11,15,17],[19,31,8]])\n",
    "b"
   ]
  },
  {
   "cell_type": "code",
   "execution_count": 12,
   "metadata": {},
   "outputs": [
    {
     "data": {
      "text/plain": [
       "(4, 3)"
      ]
     },
     "execution_count": 12,
     "metadata": {},
     "output_type": "execute_result"
    }
   ],
   "source": [
    "b.shape"
   ]
  },
  {
   "cell_type": "code",
   "execution_count": 13,
   "metadata": {},
   "outputs": [],
   "source": [
    "m= np.array ([ [[4,41],[8,81],[7,71]   ],[[3,31],[1,11],[5,51]],[[6,61],[9,91],[13,131]]])"
   ]
  },
  {
   "cell_type": "code",
   "execution_count": 14,
   "metadata": {},
   "outputs": [
    {
     "data": {
      "text/plain": [
       "(3, 3, 2)"
      ]
     },
     "execution_count": 14,
     "metadata": {},
     "output_type": "execute_result"
    }
   ],
   "source": [
    "m.shape"
   ]
  },
  {
   "cell_type": "code",
   "execution_count": 18,
   "metadata": {},
   "outputs": [
    {
     "name": "stdout",
     "output_type": "stream",
     "text": [
      "(4,)\n"
     ]
    }
   ],
   "source": [
    "print(b[0:5:1,2].shape)\n"
   ]
  },
  {
   "cell_type": "code",
   "execution_count": 19,
   "metadata": {},
   "outputs": [
    {
     "name": "stdout",
     "output_type": "stream",
     "text": [
      "[[ 4]\n",
      " [ 5]\n",
      " [17]\n",
      " [ 8]]\n"
     ]
    }
   ],
   "source": [
    "print(b[0:,-1:])"
   ]
  },
  {
   "cell_type": "code",
   "execution_count": 20,
   "metadata": {},
   "outputs": [
    {
     "name": "stdout",
     "output_type": "stream",
     "text": [
      "[[ 4]\n",
      " [ 5]\n",
      " [17]\n",
      " [ 8]]\n"
     ]
    }
   ],
   "source": [
    "print(b[:,2:3])"
   ]
  },
  {
   "cell_type": "code",
   "execution_count": 22,
   "metadata": {},
   "outputs": [
    {
     "name": "stdout",
     "output_type": "stream",
     "text": [
      "[[[ 1]\n",
      "  [ 5]]\n",
      "\n",
      " [[ 9]\n",
      "  [13]]]\n"
     ]
    }
   ],
   "source": [
    "print(m[1:,1:,:1])"
   ]
  },
  {
   "cell_type": "code",
   "execution_count": 30,
   "metadata": {},
   "outputs": [
    {
     "name": "stdout",
     "output_type": "stream",
     "text": [
      "[[[  7  71]]\n",
      "\n",
      " [[  5  51]]\n",
      "\n",
      " [[ 13 131]]]\n"
     ]
    }
   ],
   "source": [
    "print(m[:,2:,:2])"
   ]
  },
  {
   "cell_type": "code",
   "execution_count": 31,
   "metadata": {},
   "outputs": [
    {
     "name": "stdout",
     "output_type": "stream",
     "text": [
      "[[ 8 13  9]\n",
      " [14  8 10]\n",
      " [16 20 22]\n",
      " [24 36 13]]\n"
     ]
    }
   ],
   "source": [
    "print(b+5)"
   ]
  },
  {
   "cell_type": "code",
   "execution_count": 34,
   "metadata": {},
   "outputs": [
    {
     "data": {
      "text/plain": [
       "array([[  3,  80,   4],\n",
       "       [  9,  30,   5],\n",
       "       [ 11, 150,  17],\n",
       "       [ 19, 301,   8]])"
      ]
     },
     "execution_count": 34,
     "metadata": {},
     "output_type": "execute_result"
    }
   ],
   "source": [
    "b[0:,-2]= [80,30,150,301]\n",
    "b"
   ]
  },
  {
   "cell_type": "code",
   "execution_count": 44,
   "metadata": {},
   "outputs": [
    {
     "data": {
      "text/plain": [
       "array([[  3,  80,   4],\n",
       "       [  9, 202, 303],\n",
       "       [ 11, 404, 505],\n",
       "       [ 19, 606, 707]])"
      ]
     },
     "execution_count": 44,
     "metadata": {},
     "output_type": "execute_result"
    }
   ],
   "source": [
    "b[1:,1:]=[[202,303],[404,505],[606,707]]\n",
    "b"
   ]
  },
  {
   "cell_type": "code",
   "execution_count": 46,
   "metadata": {},
   "outputs": [
    {
     "data": {
      "text/plain": [
       "array([[  3,  80,   4,   1],\n",
       "       [  9, 202, 303,   1],\n",
       "       [ 11, 404, 505,   1],\n",
       "       [ 19, 606, 707,   1]])"
      ]
     },
     "execution_count": 46,
     "metadata": {},
     "output_type": "execute_result"
    }
   ],
   "source": [
    "np.append(b,[[1],[1],[1],[1]],axis=1)"
   ]
  },
  {
   "cell_type": "code",
   "execution_count": 37,
   "metadata": {},
   "outputs": [
    {
     "data": {
      "text/plain": [
       "array([[  3,  80,   4],\n",
       "       [  9, 202, 303],\n",
       "       [ 11, 404, 505],\n",
       "       [ 19, 606, 707],\n",
       "       [  1,   1,   1]])"
      ]
     },
     "execution_count": 37,
     "metadata": {},
     "output_type": "execute_result"
    }
   ],
   "source": [
    "np.append(b,[[1,1,1]],axis=0)"
   ]
  },
  {
   "cell_type": "code",
   "execution_count": 47,
   "metadata": {},
   "outputs": [
    {
     "data": {
      "text/plain": [
       "array([[  3,  80,   4],\n",
       "       [ 11, 404, 505],\n",
       "       [ 19, 606, 707]])"
      ]
     },
     "execution_count": 47,
     "metadata": {},
     "output_type": "execute_result"
    }
   ],
   "source": [
    "np.delete(b,1,0)"
   ]
  },
  {
   "cell_type": "code",
   "execution_count": 48,
   "metadata": {},
   "outputs": [
    {
     "data": {
      "text/plain": [
       "array([[  3,   4],\n",
       "       [  9, 303],\n",
       "       [ 11, 505],\n",
       "       [ 19, 707]])"
      ]
     },
     "execution_count": 48,
     "metadata": {},
     "output_type": "execute_result"
    }
   ],
   "source": [
    "np.delete(b,1,1)"
   ]
  },
  {
   "cell_type": "code",
   "execution_count": 50,
   "metadata": {},
   "outputs": [
    {
     "data": {
      "text/plain": [
       "array([[  3,  80,   4],\n",
       "       [  9, 202, 303],\n",
       "       [ 11, 404, 505]])"
      ]
     },
     "execution_count": 50,
     "metadata": {},
     "output_type": "execute_result"
    }
   ],
   "source": [
    "np.delete(b,3,axis=0)"
   ]
  },
  {
   "cell_type": "code",
   "execution_count": 53,
   "metadata": {},
   "outputs": [
    {
     "data": {
      "text/plain": [
       "array([[  3,  80],\n",
       "       [  4,   9],\n",
       "       [202, 303],\n",
       "       [ 11, 404],\n",
       "       [505,  19],\n",
       "       [606, 707]])"
      ]
     },
     "execution_count": 53,
     "metadata": {},
     "output_type": "execute_result"
    }
   ],
   "source": [
    "b.reshape(6,2)"
   ]
  },
  {
   "cell_type": "code",
   "execution_count": 52,
   "metadata": {},
   "outputs": [
    {
     "data": {
      "text/plain": [
       "array([[[  3,  80],\n",
       "        [  4,   9],\n",
       "        [202, 303]],\n",
       "\n",
       "       [[ 11, 404],\n",
       "        [505,  19],\n",
       "        [606, 707]]])"
      ]
     },
     "execution_count": 52,
     "metadata": {},
     "output_type": "execute_result"
    }
   ],
   "source": [
    "b.reshape(2,3,2)"
   ]
  },
  {
   "cell_type": "code",
   "execution_count": 54,
   "metadata": {},
   "outputs": [
    {
     "data": {
      "text/plain": [
       "array([[  3.,  80.,   4.],\n",
       "       [  9., 202., 303.],\n",
       "       [ 11., 404., 505.],\n",
       "       [ 19., 606., 707.]])"
      ]
     },
     "execution_count": 54,
     "metadata": {},
     "output_type": "execute_result"
    }
   ],
   "source": [
    "b.astype(float)"
   ]
  },
  {
   "cell_type": "code",
   "execution_count": 55,
   "metadata": {},
   "outputs": [
    {
     "data": {
      "text/plain": [
       "array([[  3,  80,   4],\n",
       "       [  9, 202, 303],\n",
       "       [ 11, 404, 505],\n",
       "       [ 19, 606, 707]], dtype=uint16)"
      ]
     },
     "execution_count": 55,
     "metadata": {},
     "output_type": "execute_result"
    }
   ],
   "source": [
    "b.astype('uint16')"
   ]
  },
  {
   "cell_type": "code",
   "execution_count": 56,
   "metadata": {},
   "outputs": [
    {
     "data": {
      "text/plain": [
       "array([ 36.06475657, 121.9681197 , 213.09517957, 303.33589743])"
      ]
     },
     "execution_count": 56,
     "metadata": {},
     "output_type": "execute_result"
    }
   ],
   "source": [
    "b.std(axis=1)"
   ]
  },
  {
   "cell_type": "code",
   "execution_count": 2,
   "metadata": {},
   "outputs": [
    {
     "data": {
      "text/plain": [
       "array([ 0,  2,  4,  6,  8, 10, 12])"
      ]
     },
     "execution_count": 2,
     "metadata": {},
     "output_type": "execute_result"
    }
   ],
   "source": [
    "import numpy as np\n",
    "np.arange(0,14,2)"
   ]
  },
  {
   "cell_type": "code",
   "execution_count": 1,
   "metadata": {},
   "outputs": [
    {
     "data": {
      "text/plain": [
       "array([[0, 0, 0],\n",
       "       [0, 0, 0]])"
      ]
     },
     "execution_count": 1,
     "metadata": {},
     "output_type": "execute_result"
    }
   ],
   "source": [
    "import numpy as np\n",
    "np.zeros((2,3), dtype=int)"
   ]
  },
  {
   "cell_type": "code",
   "execution_count": 3,
   "metadata": {},
   "outputs": [
    {
     "data": {
      "text/plain": [
       "array([ 1,  2,  3,  4,  5,  6,  7,  8,  9, 10])"
      ]
     },
     "execution_count": 3,
     "metadata": {},
     "output_type": "execute_result"
    }
   ],
   "source": [
    "np.linspace(1,10,10,dtype=int)"
   ]
  },
  {
   "cell_type": "code",
   "execution_count": 6,
   "metadata": {},
   "outputs": [
    {
     "data": {
      "text/plain": [
       "array([1])"
      ]
     },
     "execution_count": 6,
     "metadata": {},
     "output_type": "execute_result"
    }
   ],
   "source": [
    "list(range(1,11,1))\n",
    "np.random.randint(1,6,1)"
   ]
  },
  {
   "cell_type": "code",
   "execution_count": 7,
   "metadata": {},
   "outputs": [
    {
     "data": {
      "text/plain": [
       "array([[4516, 3814, 2388],\n",
       "       [3427, 3278,  676],\n",
       "       [3571, 1410, 2375],\n",
       "       [ 679, 1503, 4384]])"
      ]
     },
     "execution_count": 7,
     "metadata": {},
     "output_type": "execute_result"
    }
   ],
   "source": [
    "np.random.randint(31,6000,[4,3],)"
   ]
  },
  {
   "cell_type": "code",
   "execution_count": null,
   "metadata": {},
   "outputs": [],
   "source": [
    "np.random.seed(54 )\n",
    "np.random.randint(31,6000,[4,3],)"
   ]
  },
  {
   "cell_type": "code",
   "execution_count": 8,
   "metadata": {},
   "outputs": [
    {
     "data": {
      "text/plain": [
       "array([[0.18257357, 0.32489741, 0.20012194, 0.83842052],\n",
       "       [0.71818363, 0.3227067 , 0.51009485, 0.30870266],\n",
       "       [0.45365054, 0.45320644, 0.70792212, 0.73112701]])"
      ]
     },
     "execution_count": 8,
     "metadata": {},
     "output_type": "execute_result"
    }
   ],
   "source": [
    "np.random.rand(3,4)"
   ]
  },
  {
   "cell_type": "code",
   "execution_count": 10,
   "metadata": {},
   "outputs": [
    {
     "data": {
      "text/plain": [
       "array([[0.99526441, 0.17407258, 0.88437933, 0.59893446],\n",
       "       [0.90627257, 0.85241513, 0.15854067, 0.97277876],\n",
       "       [0.45453148, 0.18016926, 0.45721961, 0.56780794]])"
      ]
     },
     "execution_count": 10,
     "metadata": {},
     "output_type": "execute_result"
    }
   ],
   "source": [
    "p=np.random.rand(3,4)\n",
    "p"
   ]
  },
  {
   "cell_type": "code",
   "execution_count": 11,
   "metadata": {},
   "outputs": [],
   "source": [
    "np.savetxt('new.txt',p,delimiter=',')"
   ]
  },
  {
   "cell_type": "markdown",
   "metadata": {},
   "source": []
  },
  {
   "cell_type": "code",
   "execution_count": 9,
   "metadata": {},
   "outputs": [
    {
     "data": {
      "text/plain": [
       "array(['hii,', 'this', 'is', 'first', 'yext', 'file.'], dtype='<U5')"
      ]
     },
     "execution_count": 9,
     "metadata": {},
     "output_type": "execute_result"
    }
   ],
   "source": [
    "r=np.loadtxt('somedata.txt',dtype=str)\n",
    "r"
   ]
  },
  {
   "cell_type": "code",
   "execution_count": 12,
   "metadata": {},
   "outputs": [
    {
     "data": {
      "text/plain": [
       "array([[0, 1, 2],\n",
       "       [3, 4, 5],\n",
       "       [6, 7, 8]])"
      ]
     },
     "execution_count": 12,
     "metadata": {},
     "output_type": "execute_result"
    }
   ],
   "source": [
    "np.arange(9).reshape(3,3)"
   ]
  },
  {
   "cell_type": "code",
   "execution_count": 13,
   "metadata": {},
   "outputs": [
    {
     "data": {
      "text/plain": [
       "array([[1., 0., 0.],\n",
       "       [0., 1., 0.],\n",
       "       [0., 0., 1.]])"
      ]
     },
     "execution_count": 13,
     "metadata": {},
     "output_type": "execute_result"
    }
   ],
   "source": [
    "np.eye(3)"
   ]
  },
  {
   "cell_type": "code",
   "execution_count": 15,
   "metadata": {},
   "outputs": [
    {
     "data": {
      "text/plain": [
       "array([-0.84700706,  0.21093977, -0.1742217 ,  0.54518509, -0.20904688,\n",
       "       -0.49399575, -0.98693534,  0.40359528,  0.74932459,  1.35751664,\n",
       "        0.55124729, -1.42806965, -0.32263894, -0.39466442,  2.15353333,\n",
       "        2.28050583,  0.2357761 ,  0.97080686, -1.17017468,  0.59803659,\n",
       "       -0.53893345,  0.13885962,  1.67791659, -0.79526576, -1.17005032,\n",
       "        0.57137   ])"
      ]
     },
     "execution_count": 15,
     "metadata": {},
     "output_type": "execute_result"
    }
   ],
   "source": [
    "np.random.randn(26)"
   ]
  },
  {
   "cell_type": "code",
   "execution_count": null,
   "metadata": {},
   "outputs": [],
   "source": [
    "np.arange(0.01,1.01,0.01),reshape(10,10)"
   ]
  }
 ],
 "metadata": {
  "kernelspec": {
   "display_name": "Python 3",
   "language": "python",
   "name": "python3"
  },
  "language_info": {
   "codemirror_mode": {
    "name": "ipython",
    "version": 3
   },
   "file_extension": ".py",
   "mimetype": "text/x-python",
   "name": "python",
   "nbconvert_exporter": "python",
   "pygments_lexer": "ipython3",
   "version": "3.9.6"
  },
  "orig_nbformat": 4,
  "vscode": {
   "interpreter": {
    "hash": "699b560ff2edf3ea91ad401ae6270351a6cbec3d5108f0a7de72cc81ba84bbba"
   }
  }
 },
 "nbformat": 4,
 "nbformat_minor": 2
}
